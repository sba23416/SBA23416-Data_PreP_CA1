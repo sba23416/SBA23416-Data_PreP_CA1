{
 "cells": [
  {
   "cell_type": "markdown",
   "id": "dc6d9520",
   "metadata": {},
   "source": [
    "# Characterisation of the data set- aps_failure_set (1).csv"
   ]
  },
  {
   "cell_type": "markdown",
   "id": "c40ef523",
   "metadata": {},
   "source": [
    "Introduction: My assignment i have been asked by Haulage company to analyse a dataset based on data collected from heavy Scania trucks in everyday usage. The system in focus is the Air Pressure system (APS) which generates pressurised air that are utilized in various functions in a truck, such as braking and gear changes.\n",
    "\n",
    "*The dataset’s positive class consists of component failures for a specific component of the APS system.\n",
    "\n",
    "*The negative class consists of trucks with failures for components not related to the APS\n",
    "\n",
    "*The data consists of a subset of all available data, selected by experts.\n",
    "\n",
    "*The main aim of this analysis will help determine the investment strategy for the company in the upcoming year.\n",
    "\n",
    "All data wrangling, analysis, and visualizations must be generated using python.\n",
    "\n",
    "The companies CTO also requires that i must include rationalize all the decisions that you have made in the report."
   ]
  },
  {
   "cell_type": "markdown",
   "id": "f50bceb6",
   "metadata": {},
   "source": [
    "Step 1 of the assignment is to: use the dataset contained within the file “aps_failure_set.csv”, conduct the following analysis and report with my findings as following step below:\n",
    "\n",
    "1.Characterisation of the data set: Which incldues the size; How many number of attributes; if there are or has/does not have missing values, Also listing the number of observations. and idenfying what these Characterisation mean.\n",
    "\n",
    "I will be importing the dataset with Panda library to verify what are the specific's\n",
    "\n",
    "Step 2:Exploratory Data Analysis (EDA) to get a better understanding of the data-set by summarizing its main characteristics and often plotting them visually.\n",
    "\n",
    "I have come to understand that this step is very important especially when we arrive at modelling the data to apply Machine learning. Plotting in EDA consists of Histograms, Box plot, Scatter plots.\n",
    "\n",
    "Step 3: Principal Component Analysis, In this section, i will be explore what is perhaps one of the most broadly used of unsupervised algorithms, principal component analysis (PCA). PCA is fundamentally a dimensionality reduction algorithm, but it can also be useful as a tool for visualization, for noise filtering,\n",
    "\n",
    "Step 4:Final Part: Curse of Dimensionality, I will end the assignment with my finding toward my analysis."
   ]
  },
  {
   "cell_type": "markdown",
   "id": "a9de2909",
   "metadata": {},
   "source": [
    "# 1. Characterisation of the data set"
   ]
  },
  {
   "cell_type": "code",
   "execution_count": 2,
   "id": "5c62bdb2",
   "metadata": {},
   "outputs": [],
   "source": [
    "import pandas as pd\n",
    "%matplotlib inline \n",
    "import numpy as np \n",
    "import matplotlib.pyplot as plt \n",
    "import seaborn as sns\n",
    "sns.set() "
   ]
  },
  {
   "cell_type": "code",
   "execution_count": 9,
   "id": "db751ac0",
   "metadata": {},
   "outputs": [],
   "source": [
    "aps_failure_df =pd.read_csv (\"aps_failure_set (2).csv\")"
   ]
  },
  {
   "cell_type": "markdown",
   "id": "42f5720e",
   "metadata": {},
   "source": [
    "Size of the dataset"
   ]
  },
  {
   "cell_type": "code",
   "execution_count": 11,
   "id": "bdb4f8b8",
   "metadata": {},
   "outputs": [
    {
     "name": "stdout",
     "output_type": "stream",
     "text": [
      "Dataset Size: (60000, 171)\n"
     ]
    }
   ],
   "source": [
    "size = aps_failure_df.shape\n",
    "print(\"Dataset Size:\", size)"
   ]
  },
  {
   "cell_type": "code",
   "execution_count": null,
   "id": "68c9cdda",
   "metadata": {},
   "outputs": [],
   "source": []
  }
 ],
 "metadata": {
  "kernelspec": {
   "display_name": "Python 3 (ipykernel)",
   "language": "python",
   "name": "python3"
  },
  "language_info": {
   "codemirror_mode": {
    "name": "ipython",
    "version": 3
   },
   "file_extension": ".py",
   "mimetype": "text/x-python",
   "name": "python",
   "nbconvert_exporter": "python",
   "pygments_lexer": "ipython3",
   "version": "3.11.4"
  }
 },
 "nbformat": 4,
 "nbformat_minor": 5
}
