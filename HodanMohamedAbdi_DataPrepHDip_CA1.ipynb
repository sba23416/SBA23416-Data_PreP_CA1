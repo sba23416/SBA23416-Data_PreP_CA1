{
 "cells": [
  {
   "cell_type": "markdown",
   "id": "892e7d6c",
   "metadata": {},
   "source": [
    "# Hodan Mohamed Abdi SBA23416_Data Preperation_CA1"
   ]
  },
  {
   "cell_type": "markdown",
   "id": "fa1fe033",
   "metadata": {},
   "source": [
    "# Characterisation of the data set- aps_failure_set (1).csv"
   ]
  },
  {
   "cell_type": "markdown",
   "id": "d3f7a36d",
   "metadata": {},
   "source": [
    "<font color=\"blue\"> Introduction: \n",
    "\n",
    "My assignment i have been asked by Haulage company to analyse a dataset based on data collected from heavy Scania trucks in everyday usage. The system in focus is the Air Pressure system (APS) which generates pressurised air that are utilized in various functions in a truck, such as braking and gear changes.\n",
    "\n",
    "*The dataset’s <font color=\"green\"> positive class consists of component failures for a specific component of the APS system. text</font> \n",
    "\n",
    "*The <font color=\"red\"> negative class consists of trucks with failures for components not related to the APS\n",
    "\n",
    "*The data consists of a subset of all available data, selected by experts.\n",
    "\n",
    "*The main aim of this analysis will help determine the investment strategy for the company in the upcoming year.\n",
    "\n",
    "All data wrangling, analysis, and visualizations must be generated using python.\n",
    "\n",
    "The companies CTO also requires that i must include rationalize all the decisions that you have made in the report."
   ]
  },
  {
   "cell_type": "markdown",
   "id": "1b173cc6",
   "metadata": {},
   "source": [
    "Assignment Minimum Requirements: \n",
    "\n",
    "Step 1 of the assignment is to: use the dataset contained within the file “aps_failure_set.csv”, conduct the following analysis and report with my findings as following step below:\n",
    "\n",
    "1.Characterisation of the data set: Which incldues the size; How many number of attributes; if there are or has/does not have missing values, Also listing the number of observations. and idenfying what these Characterisation mean.\n",
    "\n",
    "I will be importing the dataset with Panda library to verify what are the specific's\n",
    "\n",
    "Step 2:Application of Data preparation & Evaluation Methods: Include the following:Cleaning, renaming, & Exploratory Data Analysis (EDA) to get a better understanding of the data-set by summarizing its main characteristics and often plotting them visually.\n",
    "\n",
    "I have come to understand that this step is very important especially when we arrive at modelling the data to apply Machine learning. Plotting in EDA consists of Histograms, Box plot, Scatter plots.\n",
    "\n",
    "Step 3: Use Principal Component Analysis, In this section, i will be explore what is perhaps one of the most broadly used of unsupervised algorithms, principal component analysis (PCA). PCA is fundamentally a dimensionality reduction algorithm, but it can also be useful as a tool for visualization, for noise filtering,\n",
    "\n",
    "Step 4:Final Part: Curse of Dimensionality, I will end the assignment with my finding toward my analysis."
   ]
  },
  {
   "cell_type": "markdown",
   "id": "25770cc1",
   "metadata": {},
   "source": [
    "# 1. Characterisation of the data set"
   ]
  },
  {
   "cell_type": "code",
   "execution_count": 1,
   "id": "9be815ff",
   "metadata": {},
   "outputs": [],
   "source": [
    "import pandas as pd\n",
    "%matplotlib inline \n",
    "import numpy as np \n",
    "import matplotlib.pyplot as plt \n",
    "import seaborn as sns\n",
    "sns.set() "
   ]
  },
  {
   "cell_type": "code",
   "execution_count": 2,
   "id": "75f3272a",
   "metadata": {},
   "outputs": [],
   "source": [
    "aps_failure_df =pd.read_csv (\"aps_failure_set (2).csv\")"
   ]
  },
  {
   "cell_type": "markdown",
   "id": "7f555d84",
   "metadata": {},
   "source": [
    "<font color=\"green\"> Size of the dataset text</font> : In this section i have identified the size of the dataset using the follow code below: Dataset size: (6000 , 171)"
   ]
  },
  {
   "cell_type": "code",
   "execution_count": 3,
   "id": "6f7e5d9b",
   "metadata": {},
   "outputs": [
    {
     "name": "stdout",
     "output_type": "stream",
     "text": [
      "Dataset Size: (60000, 171)\n"
     ]
    }
   ],
   "source": [
    "size = aps_failure_df.shape\n",
    "print(\"Dataset Size:\", size)"
   ]
  },
  {
   "cell_type": "markdown",
   "id": "1bb143ca",
   "metadata": {},
   "source": [
    "<font color=\"green\"> Data Information text</font>: In this section, I have highlighted the current datafrane which includes the following, range index, columns, dtypes and memory."
   ]
  },
  {
   "cell_type": "code",
   "execution_count": 4,
   "id": "81912918",
   "metadata": {},
   "outputs": [
    {
     "name": "stdout",
     "output_type": "stream",
     "text": [
      "<class 'pandas.core.frame.DataFrame'>\n",
      "RangeIndex: 60000 entries, 0 to 59999\n",
      "Columns: 171 entries, class to eg_000\n",
      "dtypes: int64(1), object(170)\n",
      "memory usage: 78.3+ MB\n"
     ]
    }
   ],
   "source": [
    "aps_failure_df.info()"
   ]
  },
  {
   "cell_type": "markdown",
   "id": "193f353b",
   "metadata": {},
   "source": [
    "To get a better understanding of the dataset, I would need to identify rhe Row's and Columns and displaying the dtype value counts. as you can cledarly see within the below that the has 6000 Rows and 171 Colums."
   ]
  },
  {
   "cell_type": "code",
   "execution_count": 5,
   "id": "f98e9e89",
   "metadata": {},
   "outputs": [
    {
     "name": "stdout",
     "output_type": "stream",
     "text": [
      "The data set has 60000 rows and 171 columns\n"
     ]
    },
    {
     "data": {
      "text/html": [
       "<div>\n",
       "<style scoped>\n",
       "    .dataframe tbody tr th:only-of-type {\n",
       "        vertical-align: middle;\n",
       "    }\n",
       "\n",
       "    .dataframe tbody tr th {\n",
       "        vertical-align: top;\n",
       "    }\n",
       "\n",
       "    .dataframe thead th {\n",
       "        text-align: right;\n",
       "    }\n",
       "</style>\n",
       "<table border=\"1\" class=\"dataframe\">\n",
       "  <thead>\n",
       "    <tr style=\"text-align: right;\">\n",
       "      <th></th>\n",
       "      <th>aa_000</th>\n",
       "    </tr>\n",
       "  </thead>\n",
       "  <tbody>\n",
       "    <tr>\n",
       "      <th>count</th>\n",
       "      <td>6.000000e+04</td>\n",
       "    </tr>\n",
       "    <tr>\n",
       "      <th>mean</th>\n",
       "      <td>5.933650e+04</td>\n",
       "    </tr>\n",
       "    <tr>\n",
       "      <th>std</th>\n",
       "      <td>1.454301e+05</td>\n",
       "    </tr>\n",
       "    <tr>\n",
       "      <th>min</th>\n",
       "      <td>0.000000e+00</td>\n",
       "    </tr>\n",
       "    <tr>\n",
       "      <th>25%</th>\n",
       "      <td>8.340000e+02</td>\n",
       "    </tr>\n",
       "    <tr>\n",
       "      <th>50%</th>\n",
       "      <td>3.077600e+04</td>\n",
       "    </tr>\n",
       "    <tr>\n",
       "      <th>75%</th>\n",
       "      <td>4.866800e+04</td>\n",
       "    </tr>\n",
       "    <tr>\n",
       "      <th>max</th>\n",
       "      <td>2.746564e+06</td>\n",
       "    </tr>\n",
       "  </tbody>\n",
       "</table>\n",
       "</div>"
      ],
      "text/plain": [
       "             aa_000\n",
       "count  6.000000e+04\n",
       "mean   5.933650e+04\n",
       "std    1.454301e+05\n",
       "min    0.000000e+00\n",
       "25%    8.340000e+02\n",
       "50%    3.077600e+04\n",
       "75%    4.866800e+04\n",
       "max    2.746564e+06"
      ]
     },
     "metadata": {},
     "output_type": "display_data"
    },
    {
     "data": {
      "text/html": [
       "<div>\n",
       "<style scoped>\n",
       "    .dataframe tbody tr th:only-of-type {\n",
       "        vertical-align: middle;\n",
       "    }\n",
       "\n",
       "    .dataframe tbody tr th {\n",
       "        vertical-align: top;\n",
       "    }\n",
       "\n",
       "    .dataframe thead th {\n",
       "        text-align: right;\n",
       "    }\n",
       "</style>\n",
       "<table border=\"1\" class=\"dataframe\">\n",
       "  <thead>\n",
       "    <tr style=\"text-align: right;\">\n",
       "      <th></th>\n",
       "      <th>class</th>\n",
       "      <th>aa_000</th>\n",
       "      <th>ab_000</th>\n",
       "      <th>ac_000</th>\n",
       "      <th>ad_000</th>\n",
       "      <th>ae_000</th>\n",
       "      <th>af_000</th>\n",
       "      <th>ag_000</th>\n",
       "      <th>ag_001</th>\n",
       "      <th>ag_002</th>\n",
       "      <th>...</th>\n",
       "      <th>ee_002</th>\n",
       "      <th>ee_003</th>\n",
       "      <th>ee_004</th>\n",
       "      <th>ee_005</th>\n",
       "      <th>ee_006</th>\n",
       "      <th>ee_007</th>\n",
       "      <th>ee_008</th>\n",
       "      <th>ee_009</th>\n",
       "      <th>ef_000</th>\n",
       "      <th>eg_000</th>\n",
       "    </tr>\n",
       "  </thead>\n",
       "  <tbody>\n",
       "    <tr>\n",
       "      <th>0</th>\n",
       "      <td>neg</td>\n",
       "      <td>76698</td>\n",
       "      <td>na</td>\n",
       "      <td>2130706438</td>\n",
       "      <td>280</td>\n",
       "      <td>0</td>\n",
       "      <td>0</td>\n",
       "      <td>0</td>\n",
       "      <td>0</td>\n",
       "      <td>0</td>\n",
       "      <td>...</td>\n",
       "      <td>1240520</td>\n",
       "      <td>493384</td>\n",
       "      <td>721044</td>\n",
       "      <td>469792</td>\n",
       "      <td>339156</td>\n",
       "      <td>157956</td>\n",
       "      <td>73224</td>\n",
       "      <td>0</td>\n",
       "      <td>0</td>\n",
       "      <td>0</td>\n",
       "    </tr>\n",
       "    <tr>\n",
       "      <th>1</th>\n",
       "      <td>neg</td>\n",
       "      <td>33058</td>\n",
       "      <td>na</td>\n",
       "      <td>0</td>\n",
       "      <td>na</td>\n",
       "      <td>0</td>\n",
       "      <td>0</td>\n",
       "      <td>0</td>\n",
       "      <td>0</td>\n",
       "      <td>0</td>\n",
       "      <td>...</td>\n",
       "      <td>421400</td>\n",
       "      <td>178064</td>\n",
       "      <td>293306</td>\n",
       "      <td>245416</td>\n",
       "      <td>133654</td>\n",
       "      <td>81140</td>\n",
       "      <td>97576</td>\n",
       "      <td>1500</td>\n",
       "      <td>0</td>\n",
       "      <td>0</td>\n",
       "    </tr>\n",
       "    <tr>\n",
       "      <th>2</th>\n",
       "      <td>neg</td>\n",
       "      <td>41040</td>\n",
       "      <td>na</td>\n",
       "      <td>228</td>\n",
       "      <td>100</td>\n",
       "      <td>0</td>\n",
       "      <td>0</td>\n",
       "      <td>0</td>\n",
       "      <td>0</td>\n",
       "      <td>0</td>\n",
       "      <td>...</td>\n",
       "      <td>277378</td>\n",
       "      <td>159812</td>\n",
       "      <td>423992</td>\n",
       "      <td>409564</td>\n",
       "      <td>320746</td>\n",
       "      <td>158022</td>\n",
       "      <td>95128</td>\n",
       "      <td>514</td>\n",
       "      <td>0</td>\n",
       "      <td>0</td>\n",
       "    </tr>\n",
       "    <tr>\n",
       "      <th>3</th>\n",
       "      <td>neg</td>\n",
       "      <td>12</td>\n",
       "      <td>0</td>\n",
       "      <td>70</td>\n",
       "      <td>66</td>\n",
       "      <td>0</td>\n",
       "      <td>10</td>\n",
       "      <td>0</td>\n",
       "      <td>0</td>\n",
       "      <td>0</td>\n",
       "      <td>...</td>\n",
       "      <td>240</td>\n",
       "      <td>46</td>\n",
       "      <td>58</td>\n",
       "      <td>44</td>\n",
       "      <td>10</td>\n",
       "      <td>0</td>\n",
       "      <td>0</td>\n",
       "      <td>0</td>\n",
       "      <td>4</td>\n",
       "      <td>32</td>\n",
       "    </tr>\n",
       "    <tr>\n",
       "      <th>4</th>\n",
       "      <td>neg</td>\n",
       "      <td>60874</td>\n",
       "      <td>na</td>\n",
       "      <td>1368</td>\n",
       "      <td>458</td>\n",
       "      <td>0</td>\n",
       "      <td>0</td>\n",
       "      <td>0</td>\n",
       "      <td>0</td>\n",
       "      <td>0</td>\n",
       "      <td>...</td>\n",
       "      <td>622012</td>\n",
       "      <td>229790</td>\n",
       "      <td>405298</td>\n",
       "      <td>347188</td>\n",
       "      <td>286954</td>\n",
       "      <td>311560</td>\n",
       "      <td>433954</td>\n",
       "      <td>1218</td>\n",
       "      <td>0</td>\n",
       "      <td>0</td>\n",
       "    </tr>\n",
       "  </tbody>\n",
       "</table>\n",
       "<p>5 rows × 171 columns</p>\n",
       "</div>"
      ],
      "text/plain": [
       "  class  aa_000 ab_000      ac_000 ad_000 ae_000 af_000 ag_000 ag_001 ag_002  \\\n",
       "0   neg   76698     na  2130706438    280      0      0      0      0      0   \n",
       "1   neg   33058     na           0     na      0      0      0      0      0   \n",
       "2   neg   41040     na         228    100      0      0      0      0      0   \n",
       "3   neg      12      0          70     66      0     10      0      0      0   \n",
       "4   neg   60874     na        1368    458      0      0      0      0      0   \n",
       "\n",
       "   ...   ee_002  ee_003  ee_004  ee_005  ee_006  ee_007  ee_008 ee_009 ef_000  \\\n",
       "0  ...  1240520  493384  721044  469792  339156  157956   73224      0      0   \n",
       "1  ...   421400  178064  293306  245416  133654   81140   97576   1500      0   \n",
       "2  ...   277378  159812  423992  409564  320746  158022   95128    514      0   \n",
       "3  ...      240      46      58      44      10       0       0      0      4   \n",
       "4  ...   622012  229790  405298  347188  286954  311560  433954   1218      0   \n",
       "\n",
       "  eg_000  \n",
       "0      0  \n",
       "1      0  \n",
       "2      0  \n",
       "3     32  \n",
       "4      0  \n",
       "\n",
       "[5 rows x 171 columns]"
      ]
     },
     "metadata": {},
     "output_type": "display_data"
    },
    {
     "name": "stdout",
     "output_type": "stream",
     "text": [
      "object    170\n",
      "int64       1\n",
      "dtype: int64\n"
     ]
    }
   ],
   "source": [
    "print(\"The data set has {} rows and {} columns\".format(aps_failure_df.shape[0], aps_failure_df.shape[1]))\n",
    "display(aps_failure_df.describe())\n",
    "display(aps_failure_df.head())\n",
    "print(aps_failure_df.dtypes.value_counts())"
   ]
  },
  {
   "cell_type": "markdown",
   "id": "f1183da0",
   "metadata": {},
   "source": [
    "I have Identified the following: Object = 171, Int64 = 1 & dtype = int64"
   ]
  },
  {
   "cell_type": "markdown",
   "id": "eebb4ab0",
   "metadata": {},
   "source": [
    "# Identfying Atributes"
   ]
  },
  {
   "cell_type": "markdown",
   "id": "8ab4ea1c",
   "metadata": {},
   "source": [
    "In summary, identifying attributes and observations is a critical step in data analysis and modeling. It forms the basis for understanding the dataset's structure, selecting relevant features, and ensuring data quality. This information enables informed decisions, helps with feature engineering, and ultimately leads to more accurate and effective data analysis and modeling. "
   ]
  },
  {
   "cell_type": "code",
   "execution_count": 6,
   "id": "e8e124bc",
   "metadata": {},
   "outputs": [
    {
     "name": "stdout",
     "output_type": "stream",
     "text": [
      "Number of Attributes: 171\n"
     ]
    }
   ],
   "source": [
    "num_attributes = len(aps_failure_df.columns)\n",
    "print(\"Number of Attributes:\", num_attributes)"
   ]
  },
  {
   "cell_type": "code",
   "execution_count": 7,
   "id": "ecac661f",
   "metadata": {},
   "outputs": [
    {
     "name": "stdout",
     "output_type": "stream",
     "text": [
      "Number of Observations: 60000\n"
     ]
    }
   ],
   "source": [
    "num_observations = aps_failure_df.shape[0]\n",
    "print(\"Number of Observations:\", num_observations)"
   ]
  },
  {
   "cell_type": "markdown",
   "id": "77dd515a",
   "metadata": {},
   "source": [
    "# Identfying Dublicate dataset"
   ]
  },
  {
   "cell_type": "code",
   "execution_count": 8,
   "id": "b933104a",
   "metadata": {},
   "outputs": [
    {
     "data": {
      "text/plain": [
       "0"
      ]
     },
     "execution_count": 8,
     "metadata": {},
     "output_type": "execute_result"
    }
   ],
   "source": [
    "aps_failure_df.duplicated().sum()"
   ]
  },
  {
   "cell_type": "markdown",
   "id": "fc29ab66",
   "metadata": {},
   "source": [
    "Zero Dublication were found in this dataset."
   ]
  },
  {
   "cell_type": "markdown",
   "id": "a512d26f",
   "metadata": {},
   "source": [
    "# Identyfing Missing data: "
   ]
  },
  {
   "cell_type": "code",
   "execution_count": 9,
   "id": "baa17028",
   "metadata": {},
   "outputs": [
    {
     "data": {
      "text/plain": [
       "class     0\n",
       "aa_000    0\n",
       "ab_000    0\n",
       "ac_000    0\n",
       "ad_000    0\n",
       "         ..\n",
       "ee_007    0\n",
       "ee_008    0\n",
       "ee_009    0\n",
       "ef_000    0\n",
       "eg_000    0\n",
       "Length: 171, dtype: int64"
      ]
     },
     "execution_count": 9,
     "metadata": {},
     "output_type": "execute_result"
    }
   ],
   "source": [
    "aps_failure_df.isnull().sum()"
   ]
  },
  {
   "cell_type": "markdown",
   "id": "67ea08b5",
   "metadata": {},
   "source": [
    "•The class column contains the labels and its appears that the labels are being represented with the value of Zero’s\n",
    "\n",
    "•Lengh equals to 171\n",
    "\n",
    "•Data Types equales to int64"
   ]
  },
  {
   "cell_type": "markdown",
   "id": "a3b20f6b",
   "metadata": {},
   "source": [
    "# Idenfying what these Characterisation mean."
   ]
  },
  {
   "cell_type": "markdown",
   "id": "5519a232",
   "metadata": {},
   "source": [
    "The dataset i'm currently analysing consist of 600 rows (Observatios) & 171 Colums (Attributes), This makes it a modertely large dataset. Among these attributes, there are 171 distinc ones.\n",
    "\n",
    "In my analysis, I'm taking steps to identify the duplicated data entries, which helps maintain the datasets intergrity. Addtionally, I will be addrressing the missing values  (Na, NAN) to ensure that any fields with non-numeric or null vales are appropriatley transformed into numerica data."
   ]
  },
  {
   "cell_type": "markdown",
   "id": "69f4f7b1",
   "metadata": {},
   "source": [
    "# 2. Exploratory Data Analysis"
   ]
  },
  {
   "cell_type": "markdown",
   "id": "5918e0d3",
   "metadata": {},
   "source": [
    "Exploratory data analysis I have found to be a curitical step in the data analysis process for serval important reasons are as understanding the dataset, this will allow me to explore thestructure, conects and charartics of the data. EDA process will hopefully allow me to identfy the patterns and relationships within my dataset, this will also allow myself to spot trends, anomalies and dependencies between variabl that might not be apparent at fist. "
   ]
  },
  {
   "cell_type": "markdown",
   "id": "dcf43f9f",
   "metadata": {},
   "source": [
    "Data Quality Assurance, will help me identify and address data quality issues such as missing values, outliers and inconsistencies. By addressing this early will enable myself to ensure the anaylsis is clean and reliable. Below as you can see I have deployed aps_failure_df.describe(include =\"object\") to identified the NA values."
   ]
  },
  {
   "cell_type": "code",
   "execution_count": 10,
   "id": "7c6a6aa8",
   "metadata": {},
   "outputs": [
    {
     "data": {
      "text/html": [
       "<div>\n",
       "<style scoped>\n",
       "    .dataframe tbody tr th:only-of-type {\n",
       "        vertical-align: middle;\n",
       "    }\n",
       "\n",
       "    .dataframe tbody tr th {\n",
       "        vertical-align: top;\n",
       "    }\n",
       "\n",
       "    .dataframe thead th {\n",
       "        text-align: right;\n",
       "    }\n",
       "</style>\n",
       "<table border=\"1\" class=\"dataframe\">\n",
       "  <thead>\n",
       "    <tr style=\"text-align: right;\">\n",
       "      <th></th>\n",
       "      <th>class</th>\n",
       "      <th>ab_000</th>\n",
       "      <th>ac_000</th>\n",
       "      <th>ad_000</th>\n",
       "      <th>ae_000</th>\n",
       "      <th>af_000</th>\n",
       "      <th>ag_000</th>\n",
       "      <th>ag_001</th>\n",
       "      <th>ag_002</th>\n",
       "      <th>ag_003</th>\n",
       "      <th>...</th>\n",
       "      <th>ee_002</th>\n",
       "      <th>ee_003</th>\n",
       "      <th>ee_004</th>\n",
       "      <th>ee_005</th>\n",
       "      <th>ee_006</th>\n",
       "      <th>ee_007</th>\n",
       "      <th>ee_008</th>\n",
       "      <th>ee_009</th>\n",
       "      <th>ef_000</th>\n",
       "      <th>eg_000</th>\n",
       "    </tr>\n",
       "  </thead>\n",
       "  <tbody>\n",
       "    <tr>\n",
       "      <th>count</th>\n",
       "      <td>60000</td>\n",
       "      <td>60000</td>\n",
       "      <td>60000</td>\n",
       "      <td>60000</td>\n",
       "      <td>60000</td>\n",
       "      <td>60000</td>\n",
       "      <td>60000</td>\n",
       "      <td>60000</td>\n",
       "      <td>60000</td>\n",
       "      <td>60000</td>\n",
       "      <td>...</td>\n",
       "      <td>60000</td>\n",
       "      <td>60000</td>\n",
       "      <td>60000</td>\n",
       "      <td>60000</td>\n",
       "      <td>60000</td>\n",
       "      <td>60000</td>\n",
       "      <td>60000</td>\n",
       "      <td>60000</td>\n",
       "      <td>60000</td>\n",
       "      <td>60000</td>\n",
       "    </tr>\n",
       "    <tr>\n",
       "      <th>unique</th>\n",
       "      <td>2</td>\n",
       "      <td>30</td>\n",
       "      <td>2062</td>\n",
       "      <td>1887</td>\n",
       "      <td>334</td>\n",
       "      <td>419</td>\n",
       "      <td>155</td>\n",
       "      <td>618</td>\n",
       "      <td>2423</td>\n",
       "      <td>7880</td>\n",
       "      <td>...</td>\n",
       "      <td>34489</td>\n",
       "      <td>31712</td>\n",
       "      <td>35189</td>\n",
       "      <td>36289</td>\n",
       "      <td>31796</td>\n",
       "      <td>30470</td>\n",
       "      <td>24214</td>\n",
       "      <td>9725</td>\n",
       "      <td>29</td>\n",
       "      <td>50</td>\n",
       "    </tr>\n",
       "    <tr>\n",
       "      <th>top</th>\n",
       "      <td>neg</td>\n",
       "      <td>na</td>\n",
       "      <td>0</td>\n",
       "      <td>na</td>\n",
       "      <td>0</td>\n",
       "      <td>0</td>\n",
       "      <td>0</td>\n",
       "      <td>0</td>\n",
       "      <td>0</td>\n",
       "      <td>0</td>\n",
       "      <td>...</td>\n",
       "      <td>0</td>\n",
       "      <td>0</td>\n",
       "      <td>0</td>\n",
       "      <td>0</td>\n",
       "      <td>0</td>\n",
       "      <td>0</td>\n",
       "      <td>0</td>\n",
       "      <td>0</td>\n",
       "      <td>0</td>\n",
       "      <td>0</td>\n",
       "    </tr>\n",
       "    <tr>\n",
       "      <th>freq</th>\n",
       "      <td>59000</td>\n",
       "      <td>46329</td>\n",
       "      <td>8752</td>\n",
       "      <td>14861</td>\n",
       "      <td>55543</td>\n",
       "      <td>55476</td>\n",
       "      <td>59133</td>\n",
       "      <td>58587</td>\n",
       "      <td>56181</td>\n",
       "      <td>46894</td>\n",
       "      <td>...</td>\n",
       "      <td>1364</td>\n",
       "      <td>1557</td>\n",
       "      <td>1797</td>\n",
       "      <td>2814</td>\n",
       "      <td>4458</td>\n",
       "      <td>7898</td>\n",
       "      <td>17280</td>\n",
       "      <td>31863</td>\n",
       "      <td>57021</td>\n",
       "      <td>56794</td>\n",
       "    </tr>\n",
       "  </tbody>\n",
       "</table>\n",
       "<p>4 rows × 170 columns</p>\n",
       "</div>"
      ],
      "text/plain": [
       "        class ab_000 ac_000 ad_000 ae_000 af_000 ag_000 ag_001 ag_002 ag_003  \\\n",
       "count   60000  60000  60000  60000  60000  60000  60000  60000  60000  60000   \n",
       "unique      2     30   2062   1887    334    419    155    618   2423   7880   \n",
       "top       neg     na      0     na      0      0      0      0      0      0   \n",
       "freq    59000  46329   8752  14861  55543  55476  59133  58587  56181  46894   \n",
       "\n",
       "        ... ee_002 ee_003 ee_004 ee_005 ee_006 ee_007 ee_008 ee_009 ef_000  \\\n",
       "count   ...  60000  60000  60000  60000  60000  60000  60000  60000  60000   \n",
       "unique  ...  34489  31712  35189  36289  31796  30470  24214   9725     29   \n",
       "top     ...      0      0      0      0      0      0      0      0      0   \n",
       "freq    ...   1364   1557   1797   2814   4458   7898  17280  31863  57021   \n",
       "\n",
       "       eg_000  \n",
       "count   60000  \n",
       "unique     50  \n",
       "top         0  \n",
       "freq    56794  \n",
       "\n",
       "[4 rows x 170 columns]"
      ]
     },
     "execution_count": 10,
     "metadata": {},
     "output_type": "execute_result"
    }
   ],
   "source": [
    "aps_failure_df.describe(include =\"object\")"
   ]
  },
  {
   "cell_type": "markdown",
   "id": "1aa7dc64",
   "metadata": {},
   "source": [
    "As displayed above dataset, I have identified that there are dataset with NA in the column of ab_000, ad_000 which i have conclued that this would require to bechanged, although i still need to analys more of my dataset."
   ]
  },
  {
   "cell_type": "markdown",
   "id": "36c6240a",
   "metadata": {},
   "source": [
    "# Application of Data preparation & Evaluation methods "
   ]
  },
  {
   "cell_type": "markdown",
   "id": "1c26a357",
   "metadata": {},
   "source": [
    "# Cleaning Dataset Process "
   ]
  },
  {
   "cell_type": "markdown",
   "id": "b0ec0c3b",
   "metadata": {},
   "source": [
    "This part of the process I will be working on identifying the unqiue value as well as the isnull values. As you can see that aps.failure_df has shown that there are quit a few datasets that are unique and now we can move to identifying isnull dataset to unsure that am working with consistant datasets."
   ]
  },
  {
   "cell_type": "code",
   "execution_count": 11,
   "id": "ff582db2",
   "metadata": {},
   "outputs": [
    {
     "data": {
      "text/plain": [
       "array(['na', '0', '2', '4', '6', '8', '18', '10', '12', '16', '204', '24',\n",
       "       '134', '90', '26', '14', '34', '52', '20', '22', '30', '36', '100',\n",
       "       '48', '58', '32', '28', '44', '46', '68'], dtype=object)"
      ]
     },
     "execution_count": 11,
     "metadata": {},
     "output_type": "execute_result"
    }
   ],
   "source": [
    "aps_failure_df[\"ab_000\"].unique()"
   ]
  },
  {
   "cell_type": "code",
   "execution_count": 12,
   "id": "c85362db",
   "metadata": {},
   "outputs": [
    {
     "data": {
      "text/plain": [
       "0"
      ]
     },
     "execution_count": 12,
     "metadata": {},
     "output_type": "execute_result"
    }
   ],
   "source": [
    "aps_failure_df[\"ab_000\"].isnull().sum()"
   ]
  },
  {
   "cell_type": "markdown",
   "id": "52a87be9",
   "metadata": {},
   "source": [
    "As you can see above that there is 0 isnull with sum. am happy to continue with the cleaning of my dataset."
   ]
  },
  {
   "cell_type": "code",
   "execution_count": 13,
   "id": "964d466c",
   "metadata": {},
   "outputs": [
    {
     "data": {
      "text/plain": [
       "array(['280', 'na', '100', ..., '5286', '3608', '194868'], dtype=object)"
      ]
     },
     "execution_count": 13,
     "metadata": {},
     "output_type": "execute_result"
    }
   ],
   "source": [
    "aps_failure_df[\"ad_000\"].unique()"
   ]
  },
  {
   "cell_type": "markdown",
   "id": "e3f931b8",
   "metadata": {},
   "source": [
    "In order to define the unique values within my dataset"
   ]
  },
  {
   "cell_type": "code",
   "execution_count": 14,
   "id": "f8cf78d3",
   "metadata": {},
   "outputs": [
    {
     "data": {
      "text/plain": [
       "0"
      ]
     },
     "execution_count": 14,
     "metadata": {},
     "output_type": "execute_result"
    }
   ],
   "source": [
    "aps_failure_df[\"ad_000\"].isnull().sum()"
   ]
  },
  {
   "cell_type": "markdown",
   "id": "25af53aa",
   "metadata": {},
   "source": [
    "Next Step is to identfy the missing value using the missing_value as this will be valuable for the dataset analysis preprocessing. It is important to identfy the missing values in each columns (Attributes) within my dataset. The reason for this process as i would agree that its very much criticial as it helps me understand the qualitgy of dataset and also highlighting key area's that require cleaning or renaming dataset."
   ]
  },
  {
   "cell_type": "code",
   "execution_count": 15,
   "id": "50eba146",
   "metadata": {},
   "outputs": [],
   "source": [
    "missing_values=[\"na\"]"
   ]
  },
  {
   "cell_type": "markdown",
   "id": "4cddb772",
   "metadata": {},
   "source": [
    "In order to identify and locate any missing value, i have decided to use the missing_value = ['na'] as part of my dataset cleaning process."
   ]
  },
  {
   "cell_type": "code",
   "execution_count": 16,
   "id": "f3adc101",
   "metadata": {},
   "outputs": [],
   "source": [
    "aps_failure_df=pd.read_csv(\"aps_failure_set (2).csv\" , na_values=missing_values)"
   ]
  },
  {
   "cell_type": "markdown",
   "id": "66ced077",
   "metadata": {},
   "source": [
    "My next step to chaning the missing values to number will be as followed."
   ]
  },
  {
   "cell_type": "code",
   "execution_count": 17,
   "id": "bf5a6f78",
   "metadata": {},
   "outputs": [],
   "source": [
    "missing_value=aps_failure_df.isnull().sum()"
   ]
  },
  {
   "cell_type": "markdown",
   "id": "4436369d",
   "metadata": {},
   "source": [
    "In order to identify and quantify the missing vaules within APS_Failure_DF, I need this code to calculate the number of missing vailes for each column and store the results in the missing_value \"variables\"."
   ]
  },
  {
   "cell_type": "code",
   "execution_count": 18,
   "id": "f45a0a92",
   "metadata": {},
   "outputs": [
    {
     "name": "stdout",
     "output_type": "stream",
     "text": [
      "class         0\n",
      "aa_000        0\n",
      "ab_000    46329\n",
      "ac_000     3335\n",
      "ad_000    14861\n",
      "          ...  \n",
      "ee_007      671\n",
      "ee_008      671\n",
      "ee_009      671\n",
      "ef_000     2724\n",
      "eg_000     2723\n",
      "Length: 171, dtype: int64\n"
     ]
    }
   ],
   "source": [
    "print(missing_value)"
   ]
  },
  {
   "cell_type": "markdown",
   "id": "05e8b700",
   "metadata": {},
   "source": [
    "As you can see that the missing valued has now been replaced with unique values with the application of using EDA method, Although that been said, With the remaining columns that are no longer required can be removed. \n",
    "by doing this i have gained the valuable insight into the data quality which will allow me to take informed action.\n",
    "\n",
    "It's key to understand which columns have missing data, especially how much data is missing in each column. this allows myself to take action that will be beneficial for my dataset and results."
   ]
  },
  {
   "cell_type": "markdown",
   "id": "cd3562a3",
   "metadata": {},
   "source": [
    "# Removing - Droping Values - Changing Values"
   ]
  },
  {
   "cell_type": "markdown",
   "id": "400f71ff",
   "metadata": {},
   "source": [
    "This Steps will disucss and highlight the process of removing the columns are as follow:"
   ]
  },
  {
   "cell_type": "code",
   "execution_count": 19,
   "id": "d652ca65",
   "metadata": {},
   "outputs": [],
   "source": [
    "import pandas as pd\n",
    "aps_failure_df = aps_failure_df.replace('na', 0)"
   ]
  },
  {
   "cell_type": "markdown",
   "id": "1d88728f",
   "metadata": {},
   "source": [
    "The reason why i have decided to us the import pandas as pd - asp_failure_df is to handle any missing or non-numerica value in the dataset am currently analysing, the aim of this code is to replace all instances of string 'na' with a numerica value of 0 in the entire dataframe."
   ]
  },
  {
   "cell_type": "markdown",
   "id": "eb2d1415",
   "metadata": {},
   "source": [
    "By replacing the 'na' with a 0 this will make the data suitable for calculations, statisical analysis. which will allow the data to avoid any unecessary issues related to non-numeric or missing values in my analysis."
   ]
  },
  {
   "cell_type": "code",
   "execution_count": 20,
   "id": "0055bebf",
   "metadata": {},
   "outputs": [],
   "source": [
    "aps_failure_df=aps_failure_df.drop(aps_failure_df.columns[aps_failure_df.isnull().mean()>10])"
   ]
  },
  {
   "cell_type": "code",
   "execution_count": 21,
   "id": "67051756",
   "metadata": {},
   "outputs": [
    {
     "name": "stderr",
     "output_type": "stream",
     "text": [
      "C:\\Users\\hodanabdi\\AppData\\Local\\Temp\\ipykernel_23232\\189073769.py:1: FutureWarning: The default value of numeric_only in DataFrame.median is deprecated. In a future version, it will default to False. In addition, specifying 'numeric_only=None' is deprecated. Select only valid columns or specify the value of numeric_only to silence this warning.\n",
      "  aps_failure_df.fillna(aps_failure_df.median(),inplace=True)\n"
     ]
    }
   ],
   "source": [
    "aps_failure_df.fillna(aps_failure_df.median(),inplace=True)"
   ]
  },
  {
   "cell_type": "code",
   "execution_count": 22,
   "id": "a101b2c5",
   "metadata": {},
   "outputs": [
    {
     "data": {
      "text/plain": [
       "<bound method NDFrame.describe of       class  aa_000  ab_000        ac_000  ad_000  ae_000  af_000  ag_000  \\\n",
       "0       neg   76698     0.0  2.130706e+09   280.0     0.0     0.0     0.0   \n",
       "1       neg   33058     0.0  0.000000e+00   126.0     0.0     0.0     0.0   \n",
       "2       neg   41040     0.0  2.280000e+02   100.0     0.0     0.0     0.0   \n",
       "3       neg      12     0.0  7.000000e+01    66.0     0.0    10.0     0.0   \n",
       "4       neg   60874     0.0  1.368000e+03   458.0     0.0     0.0     0.0   \n",
       "...     ...     ...     ...           ...     ...     ...     ...     ...   \n",
       "59995   neg  153002     0.0  6.640000e+02   186.0     0.0     0.0     0.0   \n",
       "59996   neg    2286     0.0  2.130707e+09   224.0     0.0     0.0     0.0   \n",
       "59997   neg     112     0.0  2.130706e+09    18.0     0.0     0.0     0.0   \n",
       "59998   neg   80292     0.0  2.130706e+09   494.0     0.0     0.0     0.0   \n",
       "59999   neg   40222     0.0  6.980000e+02   628.0     0.0     0.0     0.0   \n",
       "\n",
       "       ag_001  ag_002  ...     ee_002    ee_003     ee_004     ee_005  \\\n",
       "0         0.0     0.0  ...  1240520.0  493384.0   721044.0   469792.0   \n",
       "1         0.0     0.0  ...   421400.0  178064.0   293306.0   245416.0   \n",
       "2         0.0     0.0  ...   277378.0  159812.0   423992.0   409564.0   \n",
       "3         0.0     0.0  ...      240.0      46.0       58.0       44.0   \n",
       "4         0.0     0.0  ...   622012.0  229790.0   405298.0   347188.0   \n",
       "...       ...     ...  ...        ...       ...        ...        ...   \n",
       "59995     0.0     0.0  ...   998500.0  566884.0  1290398.0  1218244.0   \n",
       "59996     0.0     0.0  ...    10578.0    6760.0    21126.0    68424.0   \n",
       "59997     0.0     0.0  ...      792.0     386.0      452.0      144.0   \n",
       "59998     0.0     0.0  ...   699352.0  222654.0   347378.0   225724.0   \n",
       "59999     0.0     0.0  ...   440066.0  183200.0   344546.0   254068.0   \n",
       "\n",
       "          ee_006    ee_007    ee_008    ee_009  ef_000  eg_000  \n",
       "0       339156.0  157956.0   73224.0       0.0     0.0     0.0  \n",
       "1       133654.0   81140.0   97576.0    1500.0     0.0     0.0  \n",
       "2       320746.0  158022.0   95128.0     514.0     0.0     0.0  \n",
       "3           10.0       0.0       0.0       0.0     4.0    32.0  \n",
       "4       286954.0  311560.0  433954.0    1218.0     0.0     0.0  \n",
       "...          ...       ...       ...       ...     ...     ...  \n",
       "59995  1019768.0  717762.0  898642.0   28588.0     0.0     0.0  \n",
       "59996      136.0       0.0       0.0       0.0     0.0     0.0  \n",
       "59997      146.0    2622.0       0.0       0.0     0.0     0.0  \n",
       "59998   194440.0  165070.0  802280.0  388422.0     0.0     0.0  \n",
       "59999   225148.0  158304.0  170384.0     158.0     0.0     0.0  \n",
       "\n",
       "[60000 rows x 171 columns]>"
      ]
     },
     "execution_count": 22,
     "metadata": {},
     "output_type": "execute_result"
    }
   ],
   "source": [
    "aps_failure_df.describe"
   ]
  },
  {
   "cell_type": "markdown",
   "id": "50cdf938",
   "metadata": {},
   "source": [
    "# Re-naming "
   ]
  },
  {
   "cell_type": "markdown",
   "id": "a032f02f",
   "metadata": {},
   "source": [
    "Renaming my verables or features, I have decided not to take this option as the dataset i have am happy to identfy. "
   ]
  },
  {
   "cell_type": "markdown",
   "id": "1625284e",
   "metadata": {},
   "source": [
    "# Clearned Dataset"
   ]
  },
  {
   "cell_type": "code",
   "execution_count": 23,
   "id": "3e6ce665",
   "metadata": {},
   "outputs": [
    {
     "data": {
      "text/html": [
       "<div>\n",
       "<style scoped>\n",
       "    .dataframe tbody tr th:only-of-type {\n",
       "        vertical-align: middle;\n",
       "    }\n",
       "\n",
       "    .dataframe tbody tr th {\n",
       "        vertical-align: top;\n",
       "    }\n",
       "\n",
       "    .dataframe thead th {\n",
       "        text-align: right;\n",
       "    }\n",
       "</style>\n",
       "<table border=\"1\" class=\"dataframe\">\n",
       "  <thead>\n",
       "    <tr style=\"text-align: right;\">\n",
       "      <th></th>\n",
       "      <th>class</th>\n",
       "      <th>aa_000</th>\n",
       "      <th>ab_000</th>\n",
       "      <th>ac_000</th>\n",
       "      <th>ad_000</th>\n",
       "      <th>ae_000</th>\n",
       "      <th>af_000</th>\n",
       "      <th>ag_000</th>\n",
       "      <th>ag_001</th>\n",
       "      <th>ag_002</th>\n",
       "      <th>...</th>\n",
       "      <th>ee_002</th>\n",
       "      <th>ee_003</th>\n",
       "      <th>ee_004</th>\n",
       "      <th>ee_005</th>\n",
       "      <th>ee_006</th>\n",
       "      <th>ee_007</th>\n",
       "      <th>ee_008</th>\n",
       "      <th>ee_009</th>\n",
       "      <th>ef_000</th>\n",
       "      <th>eg_000</th>\n",
       "    </tr>\n",
       "  </thead>\n",
       "  <tbody>\n",
       "    <tr>\n",
       "      <th>0</th>\n",
       "      <td>neg</td>\n",
       "      <td>76698</td>\n",
       "      <td>0.0</td>\n",
       "      <td>2.130706e+09</td>\n",
       "      <td>280.0</td>\n",
       "      <td>0.0</td>\n",
       "      <td>0.0</td>\n",
       "      <td>0.0</td>\n",
       "      <td>0.0</td>\n",
       "      <td>0.0</td>\n",
       "      <td>...</td>\n",
       "      <td>1240520.0</td>\n",
       "      <td>493384.0</td>\n",
       "      <td>721044.0</td>\n",
       "      <td>469792.0</td>\n",
       "      <td>339156.0</td>\n",
       "      <td>157956.0</td>\n",
       "      <td>73224.0</td>\n",
       "      <td>0.0</td>\n",
       "      <td>0.0</td>\n",
       "      <td>0.0</td>\n",
       "    </tr>\n",
       "    <tr>\n",
       "      <th>1</th>\n",
       "      <td>neg</td>\n",
       "      <td>33058</td>\n",
       "      <td>0.0</td>\n",
       "      <td>0.000000e+00</td>\n",
       "      <td>126.0</td>\n",
       "      <td>0.0</td>\n",
       "      <td>0.0</td>\n",
       "      <td>0.0</td>\n",
       "      <td>0.0</td>\n",
       "      <td>0.0</td>\n",
       "      <td>...</td>\n",
       "      <td>421400.0</td>\n",
       "      <td>178064.0</td>\n",
       "      <td>293306.0</td>\n",
       "      <td>245416.0</td>\n",
       "      <td>133654.0</td>\n",
       "      <td>81140.0</td>\n",
       "      <td>97576.0</td>\n",
       "      <td>1500.0</td>\n",
       "      <td>0.0</td>\n",
       "      <td>0.0</td>\n",
       "    </tr>\n",
       "    <tr>\n",
       "      <th>2</th>\n",
       "      <td>neg</td>\n",
       "      <td>41040</td>\n",
       "      <td>0.0</td>\n",
       "      <td>2.280000e+02</td>\n",
       "      <td>100.0</td>\n",
       "      <td>0.0</td>\n",
       "      <td>0.0</td>\n",
       "      <td>0.0</td>\n",
       "      <td>0.0</td>\n",
       "      <td>0.0</td>\n",
       "      <td>...</td>\n",
       "      <td>277378.0</td>\n",
       "      <td>159812.0</td>\n",
       "      <td>423992.0</td>\n",
       "      <td>409564.0</td>\n",
       "      <td>320746.0</td>\n",
       "      <td>158022.0</td>\n",
       "      <td>95128.0</td>\n",
       "      <td>514.0</td>\n",
       "      <td>0.0</td>\n",
       "      <td>0.0</td>\n",
       "    </tr>\n",
       "    <tr>\n",
       "      <th>3</th>\n",
       "      <td>neg</td>\n",
       "      <td>12</td>\n",
       "      <td>0.0</td>\n",
       "      <td>7.000000e+01</td>\n",
       "      <td>66.0</td>\n",
       "      <td>0.0</td>\n",
       "      <td>10.0</td>\n",
       "      <td>0.0</td>\n",
       "      <td>0.0</td>\n",
       "      <td>0.0</td>\n",
       "      <td>...</td>\n",
       "      <td>240.0</td>\n",
       "      <td>46.0</td>\n",
       "      <td>58.0</td>\n",
       "      <td>44.0</td>\n",
       "      <td>10.0</td>\n",
       "      <td>0.0</td>\n",
       "      <td>0.0</td>\n",
       "      <td>0.0</td>\n",
       "      <td>4.0</td>\n",
       "      <td>32.0</td>\n",
       "    </tr>\n",
       "    <tr>\n",
       "      <th>4</th>\n",
       "      <td>neg</td>\n",
       "      <td>60874</td>\n",
       "      <td>0.0</td>\n",
       "      <td>1.368000e+03</td>\n",
       "      <td>458.0</td>\n",
       "      <td>0.0</td>\n",
       "      <td>0.0</td>\n",
       "      <td>0.0</td>\n",
       "      <td>0.0</td>\n",
       "      <td>0.0</td>\n",
       "      <td>...</td>\n",
       "      <td>622012.0</td>\n",
       "      <td>229790.0</td>\n",
       "      <td>405298.0</td>\n",
       "      <td>347188.0</td>\n",
       "      <td>286954.0</td>\n",
       "      <td>311560.0</td>\n",
       "      <td>433954.0</td>\n",
       "      <td>1218.0</td>\n",
       "      <td>0.0</td>\n",
       "      <td>0.0</td>\n",
       "    </tr>\n",
       "    <tr>\n",
       "      <th>...</th>\n",
       "      <td>...</td>\n",
       "      <td>...</td>\n",
       "      <td>...</td>\n",
       "      <td>...</td>\n",
       "      <td>...</td>\n",
       "      <td>...</td>\n",
       "      <td>...</td>\n",
       "      <td>...</td>\n",
       "      <td>...</td>\n",
       "      <td>...</td>\n",
       "      <td>...</td>\n",
       "      <td>...</td>\n",
       "      <td>...</td>\n",
       "      <td>...</td>\n",
       "      <td>...</td>\n",
       "      <td>...</td>\n",
       "      <td>...</td>\n",
       "      <td>...</td>\n",
       "      <td>...</td>\n",
       "      <td>...</td>\n",
       "      <td>...</td>\n",
       "    </tr>\n",
       "    <tr>\n",
       "      <th>95</th>\n",
       "      <td>neg</td>\n",
       "      <td>42700</td>\n",
       "      <td>0.0</td>\n",
       "      <td>3.720000e+02</td>\n",
       "      <td>308.0</td>\n",
       "      <td>0.0</td>\n",
       "      <td>0.0</td>\n",
       "      <td>0.0</td>\n",
       "      <td>0.0</td>\n",
       "      <td>0.0</td>\n",
       "      <td>...</td>\n",
       "      <td>196484.0</td>\n",
       "      <td>97702.0</td>\n",
       "      <td>218142.0</td>\n",
       "      <td>202692.0</td>\n",
       "      <td>243528.0</td>\n",
       "      <td>239650.0</td>\n",
       "      <td>571872.0</td>\n",
       "      <td>5502.0</td>\n",
       "      <td>0.0</td>\n",
       "      <td>0.0</td>\n",
       "    </tr>\n",
       "    <tr>\n",
       "      <th>96</th>\n",
       "      <td>neg</td>\n",
       "      <td>12494</td>\n",
       "      <td>0.0</td>\n",
       "      <td>7.800000e+01</td>\n",
       "      <td>34.0</td>\n",
       "      <td>0.0</td>\n",
       "      <td>0.0</td>\n",
       "      <td>0.0</td>\n",
       "      <td>0.0</td>\n",
       "      <td>0.0</td>\n",
       "      <td>...</td>\n",
       "      <td>29132.0</td>\n",
       "      <td>18002.0</td>\n",
       "      <td>48326.0</td>\n",
       "      <td>32512.0</td>\n",
       "      <td>356176.0</td>\n",
       "      <td>47966.0</td>\n",
       "      <td>46.0</td>\n",
       "      <td>0.0</td>\n",
       "      <td>0.0</td>\n",
       "      <td>0.0</td>\n",
       "    </tr>\n",
       "    <tr>\n",
       "      <th>97</th>\n",
       "      <td>neg</td>\n",
       "      <td>40576</td>\n",
       "      <td>0.0</td>\n",
       "      <td>0.000000e+00</td>\n",
       "      <td>126.0</td>\n",
       "      <td>0.0</td>\n",
       "      <td>0.0</td>\n",
       "      <td>0.0</td>\n",
       "      <td>0.0</td>\n",
       "      <td>0.0</td>\n",
       "      <td>...</td>\n",
       "      <td>472008.0</td>\n",
       "      <td>265360.0</td>\n",
       "      <td>527334.0</td>\n",
       "      <td>330286.0</td>\n",
       "      <td>138454.0</td>\n",
       "      <td>64308.0</td>\n",
       "      <td>102692.0</td>\n",
       "      <td>11312.0</td>\n",
       "      <td>0.0</td>\n",
       "      <td>0.0</td>\n",
       "    </tr>\n",
       "    <tr>\n",
       "      <th>98</th>\n",
       "      <td>neg</td>\n",
       "      <td>32564</td>\n",
       "      <td>0.0</td>\n",
       "      <td>0.000000e+00</td>\n",
       "      <td>126.0</td>\n",
       "      <td>0.0</td>\n",
       "      <td>0.0</td>\n",
       "      <td>0.0</td>\n",
       "      <td>0.0</td>\n",
       "      <td>0.0</td>\n",
       "      <td>...</td>\n",
       "      <td>265410.0</td>\n",
       "      <td>146790.0</td>\n",
       "      <td>335982.0</td>\n",
       "      <td>382174.0</td>\n",
       "      <td>180534.0</td>\n",
       "      <td>79058.0</td>\n",
       "      <td>79682.0</td>\n",
       "      <td>2284.0</td>\n",
       "      <td>0.0</td>\n",
       "      <td>0.0</td>\n",
       "    </tr>\n",
       "    <tr>\n",
       "      <th>99</th>\n",
       "      <td>neg</td>\n",
       "      <td>38018</td>\n",
       "      <td>0.0</td>\n",
       "      <td>1.480000e+02</td>\n",
       "      <td>140.0</td>\n",
       "      <td>0.0</td>\n",
       "      <td>0.0</td>\n",
       "      <td>0.0</td>\n",
       "      <td>0.0</td>\n",
       "      <td>0.0</td>\n",
       "      <td>...</td>\n",
       "      <td>245058.0</td>\n",
       "      <td>118444.0</td>\n",
       "      <td>235630.0</td>\n",
       "      <td>209980.0</td>\n",
       "      <td>212500.0</td>\n",
       "      <td>197286.0</td>\n",
       "      <td>384074.0</td>\n",
       "      <td>25542.0</td>\n",
       "      <td>0.0</td>\n",
       "      <td>0.0</td>\n",
       "    </tr>\n",
       "  </tbody>\n",
       "</table>\n",
       "<p>100 rows × 171 columns</p>\n",
       "</div>"
      ],
      "text/plain": [
       "   class  aa_000  ab_000        ac_000  ad_000  ae_000  af_000  ag_000  \\\n",
       "0    neg   76698     0.0  2.130706e+09   280.0     0.0     0.0     0.0   \n",
       "1    neg   33058     0.0  0.000000e+00   126.0     0.0     0.0     0.0   \n",
       "2    neg   41040     0.0  2.280000e+02   100.0     0.0     0.0     0.0   \n",
       "3    neg      12     0.0  7.000000e+01    66.0     0.0    10.0     0.0   \n",
       "4    neg   60874     0.0  1.368000e+03   458.0     0.0     0.0     0.0   \n",
       "..   ...     ...     ...           ...     ...     ...     ...     ...   \n",
       "95   neg   42700     0.0  3.720000e+02   308.0     0.0     0.0     0.0   \n",
       "96   neg   12494     0.0  7.800000e+01    34.0     0.0     0.0     0.0   \n",
       "97   neg   40576     0.0  0.000000e+00   126.0     0.0     0.0     0.0   \n",
       "98   neg   32564     0.0  0.000000e+00   126.0     0.0     0.0     0.0   \n",
       "99   neg   38018     0.0  1.480000e+02   140.0     0.0     0.0     0.0   \n",
       "\n",
       "    ag_001  ag_002  ...     ee_002    ee_003    ee_004    ee_005    ee_006  \\\n",
       "0      0.0     0.0  ...  1240520.0  493384.0  721044.0  469792.0  339156.0   \n",
       "1      0.0     0.0  ...   421400.0  178064.0  293306.0  245416.0  133654.0   \n",
       "2      0.0     0.0  ...   277378.0  159812.0  423992.0  409564.0  320746.0   \n",
       "3      0.0     0.0  ...      240.0      46.0      58.0      44.0      10.0   \n",
       "4      0.0     0.0  ...   622012.0  229790.0  405298.0  347188.0  286954.0   \n",
       "..     ...     ...  ...        ...       ...       ...       ...       ...   \n",
       "95     0.0     0.0  ...   196484.0   97702.0  218142.0  202692.0  243528.0   \n",
       "96     0.0     0.0  ...    29132.0   18002.0   48326.0   32512.0  356176.0   \n",
       "97     0.0     0.0  ...   472008.0  265360.0  527334.0  330286.0  138454.0   \n",
       "98     0.0     0.0  ...   265410.0  146790.0  335982.0  382174.0  180534.0   \n",
       "99     0.0     0.0  ...   245058.0  118444.0  235630.0  209980.0  212500.0   \n",
       "\n",
       "      ee_007    ee_008   ee_009  ef_000  eg_000  \n",
       "0   157956.0   73224.0      0.0     0.0     0.0  \n",
       "1    81140.0   97576.0   1500.0     0.0     0.0  \n",
       "2   158022.0   95128.0    514.0     0.0     0.0  \n",
       "3        0.0       0.0      0.0     4.0    32.0  \n",
       "4   311560.0  433954.0   1218.0     0.0     0.0  \n",
       "..       ...       ...      ...     ...     ...  \n",
       "95  239650.0  571872.0   5502.0     0.0     0.0  \n",
       "96   47966.0      46.0      0.0     0.0     0.0  \n",
       "97   64308.0  102692.0  11312.0     0.0     0.0  \n",
       "98   79058.0   79682.0   2284.0     0.0     0.0  \n",
       "99  197286.0  384074.0  25542.0     0.0     0.0  \n",
       "\n",
       "[100 rows x 171 columns]"
      ]
     },
     "execution_count": 23,
     "metadata": {},
     "output_type": "execute_result"
    }
   ],
   "source": [
    "aps_failure_df.head(100)"
   ]
  },
  {
   "cell_type": "markdown",
   "id": "af66d091",
   "metadata": {},
   "source": [
    "# Visualisation"
   ]
  },
  {
   "cell_type": "markdown",
   "id": "43b4e14c",
   "metadata": {},
   "source": [
    "Exploratory Data Analysis or (EDA) is understanding the data set by summarizing its main characteristics and often plotting them visually. This step is very important especially when we arrive at modelling the data to apply Machine learning. Plotting in EDA consists of Histograms, Box plot, Scatter plots and many more.\n",
    "\n",
    "Through the process of EDA, we can also refine the problem statement or definition of our problem."
   ]
  },
  {
   "cell_type": "markdown",
   "id": "65087654",
   "metadata": {},
   "source": [
    "# Boxplot Diagram"
   ]
  },
  {
   "cell_type": "code",
   "execution_count": 24,
   "id": "2b06d08a",
   "metadata": {},
   "outputs": [],
   "source": [
    "%matplotlib inline\n",
    "import pandas as pd\n",
    "import seaborn as sns\n",
    "import statistics as Stat\n",
    "import matplotlib.pyplot as plt"
   ]
  },
  {
   "cell_type": "code",
   "execution_count": 25,
   "id": "289bc592",
   "metadata": {},
   "outputs": [
    {
     "data": {
      "text/plain": [
       "<Axes: >"
      ]
     },
     "execution_count": 25,
     "metadata": {},
     "output_type": "execute_result"
    },
    {
     "data": {
      "image/png": "[encoded data removed]",
      "text/plain": [
       "<Figure size 640x480 with 1 Axes>"
      ]
     },
     "metadata": {},
     "output_type": "display_data"
    }
   ],
   "source": [
    "sns.boxplot(data=aps_failure_df)"
   ]
  },
  {
   "cell_type": "markdown",
   "id": "591e5c22",
   "metadata": {},
   "source": [
    "Looking at diagram ca_000 to da_000"
   ]
  },
  {
   "cell_type": "code",
   "execution_count": null,
   "id": "c6b0c4e5",
   "metadata": {},
   "outputs": [],
   "source": [
    "sns.pairplot(aps_failure_df, x_vars=['ca_000,cb_000,cc_000,cd_000,ce_000,cf_000,cg_000,ch_000,ci_000,cj_000,ck_000,cl_000,cm_000,cn_000,cn_001,cn_002,cn_003,cn_004,cn_005,cn_006,cn_007,cn_008,cn_009,co_000,cp_000,cq_000,cr_000,cs_000,cs_001,cs_002,cs_003,cs_004,cs_005,cs_006,cs_007,cs_008,cs_009,ct_000,cu_000,cv_000,cx_000,cy_000,cz_000,], \n",
    "             y_vars=['da_000', 'db_000', 'dc_000', 'dd_000', 'de_000', 'df_000', 'dg_000', 'dh_000', 'di_000', 'dj_000', 'dk_000', 'dl_000', 'dm_000', 'dn_000', 'do_000', 'dp_000', 'dq_000', 'dr_000', 'ds_000', 'dt_000', 'du_000', 'dv_000', 'dx_000', 'dy_000', 'dz_000'],\n",
    "             hue='class')"
   ]
  },
  {
   "cell_type": "markdown",
   "id": "c70c13d3",
   "metadata": {},
   "source": [
    "Looking at diagram ee_000 to aa_000"
   ]
  },
  {
   "cell_type": "code",
   "execution_count": null,
   "id": "dfecacb4",
   "metadata": {},
   "outputs": [],
   "source": [
    "sns.pairplot(aps_failure_df, x_vars=['ea_000,eb_000,ec_00,ed_000,ee_000,ee_001,ee_002,ee_003,ee_004,ee_005,ee_006,ee_007,ee_008,ee_009,ef_000,eg_000'], \n",
    "             y_vars=['aa_000,ab_000,ac_000,ad_000,ae_000,af_000,ag_000,ag_001,ag_002,ag_003,ag_004,ag_005,ag_006,ag_007,ag_008,ag_009,ah_000,ai_000,aj_000,ak_000,al_000,am_0,an_000,ao_000,ap_000,aq_000,ar_000,as_000,at_000,au_000,av_000,ax_000,ay_000,ay_001,ay_002,ay_003,ay_004,ay_005,ay_006,ay_007,ay_008,ay_009,az_000,az_001,az_002,az_003,az_004,az_005,az_006,az_007,az_008,az_009,'],\n",
    "             hue='class')"
   ]
  },
  {
   "cell_type": "markdown",
   "id": "b44978d8",
   "metadata": {},
   "source": [
    "# Scatter Chart for Random Range "
   ]
  },
  {
   "cell_type": "code",
   "execution_count": 27,
   "id": "881715d9",
   "metadata": {},
   "outputs": [
    {
     "data": {
      "image/png": "[encoded data removed]",
      "text/plain": [
       "<Figure size 640x480 with 1 Axes>"
      ]
     },
     "metadata": {},
     "output_type": "display_data"
    }
   ],
   "source": [
    "N = 50\n",
    "x = np.random.rand(N)\n",
    "y = np.random.rand(N)\n",
    "colors = np.random.rand(N)\n",
    "area = (30 * np.random.rand(N))**2  # 0 to 15 point radii\n",
    "\n",
    "plt.scatter(x, y, s=area, c=colors, alpha=0.5)\n",
    "plt.show()"
   ]
  },
  {
   "cell_type": "code",
   "execution_count": 28,
   "id": "8d914ba3",
   "metadata": {},
   "outputs": [
    {
     "name": "stdout",
     "output_type": "stream",
     "text": [
      "neg    59000\n",
      "pos     1000\n",
      "Name: class, dtype: int64\n"
     ]
    }
   ],
   "source": [
    "class_count = aps_failure_df[\"class\"].value_counts()\n",
    "print(class_count)"
   ]
  },
  {
   "cell_type": "code",
   "execution_count": 29,
   "id": "01bb877d",
   "metadata": {},
   "outputs": [
    {
     "data": {
      "image/png": "[encoded data removed]",
      "text/plain": [
       "<Figure size 600x400 with 1 Axes>"
      ]
     },
     "metadata": {},
     "output_type": "display_data"
    }
   ],
   "source": [
    "class_counts = pd.Series([5900, 1000], index=['Negative', 'Positive'])\n",
    "plt.figure(figsize=(6, 4))\n",
    "class_counts.plot(kind= 'bar', color=['Blue', 'purple'])\n",
    "plt.xlabel('Class')\n",
    "plt.ylabel('Units')\n",
    "plt.title('Air Pressur system-Apps Failure')\n",
    "plt.xticks(range(len(class_count.index)), ['Negative', 'Positive'], rotation=0)\n",
    "plt.legend(['The Nagative is not Related to Air Pressure system'])\n",
    "plt.show()"
   ]
  },
  {
   "cell_type": "markdown",
   "id": "d7429dce",
   "metadata": {},
   "source": [
    "What data are we exploring today?\n",
    "\n",
    "We are going to look at a data set on cars called “cardata.csv”.\n",
    "\n",
    "The data contains more than 6,000 rows and more than 171 columns which have features"
   ]
  },
  {
   "cell_type": "markdown",
   "id": "d89d1c6f",
   "metadata": {},
   "source": [
    "Assessing a Specific col"
   ]
  },
  {
   "cell_type": "markdown",
   "id": "64d65a24",
   "metadata": {},
   "source": [
    "Looking at Numerical data:"
   ]
  },
  {
   "cell_type": "markdown",
   "id": "af297339",
   "metadata": {},
   "source": [
    "# Step 4: Principal Component Analysis"
   ]
  },
  {
   "cell_type": "markdown",
   "id": "47007327",
   "metadata": {},
   "source": [
    " Principal Component Analysis, In this section, i will be explore what is perhaps one of the most broadly used of unsupervised algorithms, principal component analysis (PCA). PCA is fundamentally a dimensionality reduction algorithm, but it can also be useful as a tool for visualization, for noise filtering,"
   ]
  },
  {
   "cell_type": "markdown",
   "id": "4c0010ac",
   "metadata": {},
   "source": [
    "# Number of Features Needed for Retain 99.5% Variance"
   ]
  },
  {
   "cell_type": "code",
   "execution_count": null,
   "id": "d525180b",
   "metadata": {},
   "outputs": [],
   "source": [
    "from sklearn.preprocessing import LabelEncoder\n",
    "L_encoder = LabelEncoder()\n",
    "aps_failure_df[\"class\"]=L_encoder.fit_transform(aps_failure_df[\"class\"])\n",
    "aps_failure_df.head()"
   ]
  },
  {
   "cell_type": "markdown",
   "id": "72a8c3a5",
   "metadata": {},
   "source": [
    "The code above am using scikit-learn library to encove categorical lables into nume3rical vales as this is my goal in specififcally, coverting the class column in the aps_failure_df. The main purpose is tp prepare the target veriables for machine learning algorithms. The labelEncoder will assigne a unique number to each unique class column making it easier ML model."
   ]
  },
  {
   "cell_type": "code",
   "execution_count": null,
   "id": "c5b3a5f3",
   "metadata": {},
   "outputs": [],
   "source": [
    "from sklearn.decomposition import PCA"
   ]
  },
  {
   "cell_type": "code",
   "execution_count": null,
   "id": "e6b9b104",
   "metadata": {},
   "outputs": [],
   "source": [
    "aps_failure_df_no_label = aps_failure_df.drop(aps_failure_df[\"class\"])\n",
    "pca = PCA().fit(aps_failure_df_no_label) \n",
    "plt.plot(np.cumsum(pca.explained_variance_ratio_)) \n",
    "plt.xlabel('number of components')\n",
    "plt.ylabel('cumulative explained variance')\n",
    "plt.axhline(0.9950,color= \"orangered\",alpha=.5,ls=\"--\")\n",
    "plt.axvline(2,color= \"orangered\",alpha=.5,ls=\"--\");\n",
    "plt.xlim(0,10)"
   ]
  },
  {
   "cell_type": "markdown",
   "id": "bbfaf9ae",
   "metadata": {},
   "source": [
    "The main aim is to retain 99.5% variance data from the graphic show above, my understanding is that i must keep my features no higher or below 2 in order to get the results i am looking for."
   ]
  },
  {
   "cell_type": "markdown",
   "id": "82027596",
   "metadata": {},
   "source": [
    "The Graph above clearly show's that i would need it to be 2 to achive my objective of hitting a 99.5%"
   ]
  },
  {
   "cell_type": "markdown",
   "id": "f8075cfa",
   "metadata": {},
   "source": [
    "Analysing the implement PCA to dimensionally reduce the data to the number of features that you have discovered"
   ]
  },
  {
   "cell_type": "code",
   "execution_count": null,
   "id": "860d5842",
   "metadata": {},
   "outputs": [],
   "source": [
    "pca = PCA(2)\n",
    "projected = pca.fit_transform(aps_failure_df_no_label)"
   ]
  },
  {
   "cell_type": "code",
   "execution_count": null,
   "id": "6554d399",
   "metadata": {},
   "outputs": [],
   "source": [
    "projected.shape"
   ]
  },
  {
   "cell_type": "markdown",
   "id": "204ee830",
   "metadata": {},
   "source": [
    "Side notes: observatins (Rows) equalling to 59998 and having 10 columns (Attributes)"
   ]
  },
  {
   "cell_type": "code",
   "execution_count": null,
   "id": "12694df4",
   "metadata": {},
   "outputs": [],
   "source": [
    "projected"
   ]
  },
  {
   "cell_type": "markdown",
   "id": "8a3cb5e3",
   "metadata": {},
   "source": [
    "The Array's format clearly displays that each of my obsersavtion has number of values of 2, although not the orginal values were present in the orginal dataset."
   ]
  },
  {
   "cell_type": "markdown",
   "id": "5809a2f1",
   "metadata": {},
   "source": [
    "in order to understand the dataframe better and have a clear picture i have clearly displayed below: for the purpose of demonstrations, I have labled the colums all 10 of them below for visual purpose. "
   ]
  },
  {
   "cell_type": "code",
   "execution_count": null,
   "id": "da34fd46",
   "metadata": {},
   "outputs": [],
   "source": [
    "failure_pca = pd.DataFrame(projected, columns =['C1','C2',])"
   ]
  },
  {
   "cell_type": "code",
   "execution_count": null,
   "id": "cebd1b42",
   "metadata": {},
   "outputs": [],
   "source": [
    "failure_pca.head()"
   ]
  },
  {
   "cell_type": "markdown",
   "id": "82324062",
   "metadata": {},
   "source": [
    "As you can see that all my columns are labled with C1 to C10. "
   ]
  },
  {
   "cell_type": "code",
   "execution_count": null,
   "id": "c7ea523e",
   "metadata": {},
   "outputs": [],
   "source": [
    "failure_pca[\"class\"] = aps_failure_df[\"class\"]"
   ]
  },
  {
   "cell_type": "code",
   "execution_count": null,
   "id": "36749d37",
   "metadata": {},
   "outputs": [],
   "source": [
    "failure_pca.head()"
   ]
  },
  {
   "cell_type": "markdown",
   "id": "348d62da",
   "metadata": {},
   "source": [
    "Data set I want to work with"
   ]
  },
  {
   "cell_type": "markdown",
   "id": "6f710b72",
   "metadata": {},
   "source": [
    "As you can see that I will be selecting only the Frist Colum from C1 to C10. just before it get to the last column class. "
   ]
  },
  {
   "cell_type": "markdown",
   "id": "c0d657d2",
   "metadata": {},
   "source": [
    "PCA was used to establish the minimum number of features needed for retaining 99.5% variance in the data and then implement PCA to dimensionally reduce the data to the number of features that you have discovered. \n",
    "\n",
    "This will Include a clear and concise explanation of what you i will be doing with the data \n",
    "\n",
    "and why you are doing it."
   ]
  },
  {
   "cell_type": "markdown",
   "id": "6b024aaa",
   "metadata": {},
   "source": [
    "# Step 5:Curse of Dimensionality"
   ]
  },
  {
   "cell_type": "code",
   "execution_count": null,
   "id": "4e38fe7b",
   "metadata": {},
   "outputs": [],
   "source": []
  },
  {
   "cell_type": "markdown",
   "id": "7aa7bac7",
   "metadata": {},
   "source": [
    "# Conclusion"
   ]
  },
  {
   "cell_type": "markdown",
   "id": "28294bea",
   "metadata": {},
   "source": [
    "# Reference"
   ]
  },
  {
   "cell_type": "markdown",
   "id": "aae13f5f",
   "metadata": {},
   "source": [
    "Pratusevich, M. (2017a). Practice Python. [online] Practicepython.org. Available at: https://www.practicepython.org/.\n",
    "\n",
    "Vishal (2019). Python Basic Exercise for Beginners. [online] PYnative. Available at: https://pynative.com/python-basic-exercise-for-beginners/.\n",
    "\n",
    "John Paul Mueller and Luca Massaron (2023). Python for Data Science For Dummies. John Wiley & Sons.\n",
    "\n",
    "Idris, I. (2011). NumPy 1.5 : beginner’s guide. Birmingham: Packt Publishing.\n"
   ]
  }
 ],
 "metadata": {
  "kernelspec": {
   "display_name": "Python 3 (ipykernel)",
   "language": "python",
   "name": "python3"
  },
  "language_info": {
   "codemirror_mode": {
    "name": "ipython",
    "version": 3
   },
   "file_extension": ".py",
   "mimetype": "text/x-python",
   "name": "python",
   "nbconvert_exporter": "python",
   "pygments_lexer": "ipython3",
   "version": "3.11.4"
  }
 },
 "nbformat": 4,
 "nbformat_minor": 5
}
